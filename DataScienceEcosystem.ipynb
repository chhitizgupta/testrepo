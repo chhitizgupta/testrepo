{
 "cells": [
  {
   "cell_type": "markdown",
   "id": "3cadd183-960d-4a48-94be-4d1a7674996b",
   "metadata": {},
   "source": [
    "# Data Science Tools and Ecosystem"
   ]
  },
  {
   "cell_type": "markdown",
   "id": "e97fe10f-a829-4edd-bdf2-5975944d7850",
   "metadata": {},
   "source": [
    "In this notebook, Data Science Tools and Ecosystem are summarized."
   ]
  },
  {
   "cell_type": "markdown",
   "id": "3e24a1d3-67dc-48f0-a517-dc58dd4cf75e",
   "metadata": {},
   "source": [
    "Objectives:\n",
    "* Covered popular languages\n",
    "* Understood the various open source platforms available\n",
    "* About GitHub and its uses"
   ]
  },
  {
   "cell_type": "markdown",
   "id": "ae4f68b8-e09b-4c12-b732-afa5cec76e55",
   "metadata": {},
   "source": [
    "Some of the popular languages that Data Scientists use are:"
   ]
  },
  {
   "cell_type": "markdown",
   "id": "68e52fbf-51af-4c30-af36-15e4aeefcb73",
   "metadata": {},
   "source": [
    "1. Python\n",
    "2. R\n",
    "3. SQL"
   ]
  },
  {
   "cell_type": "markdown",
   "id": "7cd27b42-9867-4459-80e0-3fbb1cb9307e",
   "metadata": {},
   "source": [
    "Some of the commonly used libraries used by Data Scientists include:"
   ]
  },
  {
   "cell_type": "markdown",
   "id": "6247f834-4a1f-4404-928b-947126d7ebdd",
   "metadata": {},
   "source": [
    "1. Matplotlib\n",
    "2. Numpy\n",
    "3. Pandas"
   ]
  },
  {
   "cell_type": "markdown",
   "id": "526e0846-cc97-48ab-ba28-63fa91a7ff92",
   "metadata": {},
   "source": [
    "|Data Science Tools|\n",
    "|------------------|\n",
    "|Jupyter Notebook|\n",
    "|R Studio|\n",
    "|KNIME|"
   ]
  },
  {
   "cell_type": "markdown",
   "id": "67f43ebc-309f-4d41-9272-22ab97a1df61",
   "metadata": {},
   "source": [
    "### Below are a few examples of evaluating arithmetic expressions in Python"
   ]
  },
  {
   "cell_type": "code",
   "execution_count": 14,
   "id": "4b5ba7f8-c4e0-47d1-aa5b-4e308d5071aa",
   "metadata": {},
   "outputs": [
    {
     "data": {
      "text/plain": [
       "17"
      ]
     },
     "execution_count": 14,
     "metadata": {},
     "output_type": "execute_result"
    }
   ],
   "source": [
    "# This a simple arithmetic expression to mutiply then add integers\n",
    "(3*4)+5"
   ]
  },
  {
   "cell_type": "code",
   "execution_count": 16,
   "id": "1240e08d-22a3-468a-92de-d079cc436031",
   "metadata": {},
   "outputs": [
    {
     "data": {
      "text/plain": [
       "3.3333333333333335"
      ]
     },
     "execution_count": 16,
     "metadata": {},
     "output_type": "execute_result"
    }
   ],
   "source": [
    "# This will convert 200 minutes to hours by dividing by 60.\n",
    "200/60"
   ]
  },
  {
   "cell_type": "markdown",
   "id": "fe37c209-6a11-4831-b760-9c74c5285b5f",
   "metadata": {},
   "source": [
    "## Author\n",
    "Chhitiz"
   ]
  },
  {
   "cell_type": "code",
   "execution_count": null,
   "id": "65d676aa-929a-4a59-93df-c60053364c3f",
   "metadata": {},
   "outputs": [],
   "source": []
  }
 ],
 "metadata": {
  "kernelspec": {
   "display_name": "Python 3 (ipykernel)",
   "language": "python",
   "name": "python3"
  },
  "language_info": {
   "codemirror_mode": {
    "name": "ipython",
    "version": 3
   },
   "file_extension": ".py",
   "mimetype": "text/x-python",
   "name": "python",
   "nbconvert_exporter": "python",
   "pygments_lexer": "ipython3",
   "version": "3.11.7"
  }
 },
 "nbformat": 4,
 "nbformat_minor": 5
}
